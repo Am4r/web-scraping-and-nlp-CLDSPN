{
 "cells": [
  {
   "cell_type": "markdown",
   "metadata": {},
   "source": [
    "# Web Scraping & NLP - Central London Data Science Project Nights\n",
    "Instead of relying on excel sheets and database admins to give us the data we need to do our data science, we can take the task into our own hands and collect the data ourselves just by going to webpages.\n",
    "\n",
    "![see the data](images/neo.gif)\n",
    "<p style=\"text-align:center\">Stop seeing web pages and start seeing data.</p>"
   ]
  },
  {
   "cell_type": "markdown",
   "metadata": {},
   "source": [
    "### First lets see what version of python we are on"
   ]
  },
  {
   "cell_type": "code",
   "execution_count": 1,
   "metadata": {},
   "outputs": [
    {
     "name": "stdout",
     "output_type": "stream",
     "text": [
      "Great! Python 3! Lets get on with scraping!\n"
     ]
    }
   ],
   "source": [
    "import sys\n",
    "if sys.version_info[0] == 3:\n",
    "    print('Great! Python 3! Lets get on with scraping!')\n",
    "else:\n",
    "    print('Yikes! Python 2! This may not work for you! ')"
   ]
  },
  {
   "cell_type": "markdown",
   "metadata": {},
   "source": [
    "## Import the libraries for doing our scraping"
   ]
  },
  {
   "cell_type": "code",
   "execution_count": 2,
   "metadata": {},
   "outputs": [],
   "source": [
    "# 'requests' is what we use to send web requests (to fetch the html files from websites)\n",
    "import requests\n",
    "\n",
    "# beautiful-soup will help us in navigating through the html in an easy way to find just the text we care about\n",
    "from bs4 import BeautifulSoup"
   ]
  },
  {
   "cell_type": "markdown",
   "metadata": {},
   "source": [
    "Now lets decide which page we want to scrap. We'll do https://techcrunch.com/ first. Open the page in your browser (by clicking on the link) to see the visual structure of the page."
   ]
  },
  {
   "cell_type": "code",
   "execution_count": 47,
   "metadata": {},
   "outputs": [],
   "source": [
    "WEB_PAGE_TO_SCRAPE_URL = \"https://techcrunch.com/\""
   ]
  },
  {
   "cell_type": "code",
   "execution_count": 48,
   "metadata": {},
   "outputs": [],
   "source": [
    "# send request for the web page\n",
    "response = requests.get(WEB_PAGE_TO_SCRAPE_URL)"
   ]
  },
  {
   "cell_type": "code",
   "execution_count": 9,
   "metadata": {},
   "outputs": [
    {
     "data": {
      "text/plain": [
       "'<!DOCTYPE html>\\n<html xmlns=\"http://www.w3.org/1999/xhtml\" xmlns:og=\"http://opengraphprotocol.org/schema/\" xmlns:fb=\"http://www.facebook.com/2008/fbml\" lang=\"en\">\\n<head>\\n\\t<title>TechCrunch - The latest technology news and information on startups</title>\\n\\t<meta http-equiv=\"X-UA-Compatible\" content=\"IE=Edge\" />\\n\\t<meta charset=\"UTF-8\">\\n\\t\\t<meta name=\"p:domain_verify\" content=\"6189ff68ce30e30f12b40b3b40873027\"/>\\n\\t<meta name=\"HandheldFriendly\" content=\"True\">\\n\\t<meta name=\"MobileOptimized\" content=\"320'"
      ]
     },
     "execution_count": 9,
     "metadata": {},
     "output_type": "execute_result"
    }
   ],
   "source": [
    "# lets look at some of the raw text (the html), more specificly the first 500 characters \n",
    "response.text[:500]"
   ]
  },
  {
   "cell_type": "code",
   "execution_count": 10,
   "metadata": {},
   "outputs": [],
   "source": [
    "souped_page = BeautifulSoup(response.text, 'html.parser')"
   ]
  },
  {
   "cell_type": "code",
   "execution_count": 14,
   "metadata": {},
   "outputs": [
    {
     "data": {
      "text/plain": [
       "<title>TechCrunch - The latest technology news and information on startups</title>"
      ]
     },
     "execution_count": 14,
     "metadata": {},
     "output_type": "execute_result"
    }
   ],
   "source": [
    "souped_page.find('title')"
   ]
  },
  {
   "cell_type": "code",
   "execution_count": 16,
   "metadata": {},
   "outputs": [
    {
     "data": {
      "text/plain": [
       "'TechCrunch - The latest technology news and information on startups'"
      ]
     },
     "execution_count": 16,
     "metadata": {},
     "output_type": "execute_result"
    }
   ],
   "source": [
    "souped_page.find('title').getText()"
   ]
  },
  {
   "cell_type": "markdown",
   "metadata": {},
   "source": [
    "## Use your browsers 'inspect' to help find the element you want to scrape\n",
    "\n",
    "Most moder browsers allow you to find the exact code for the part of the webpage you are looking at.\n",
    "\n",
    "In chrome: right click on the part of the page and select  *'inspect'*\n",
    "\n",
    "![inspect element](images/inspect.png)\n",
    "\n",
    "\n",
    "\n",
    "---\n",
    "\n",
    "\n",
    "\n",
    "### Chrome will highlight the related part of the webpage as you move your mouse over the code\n",
    "\n",
    "![find](images/element_find.png)"
   ]
  },
  {
   "cell_type": "markdown",
   "metadata": {},
   "source": [
    "## BeautifulSoup query syntax"
   ]
  },
  {
   "cell_type": "code",
   "execution_count": 36,
   "metadata": {},
   "outputs": [],
   "source": [
    "list_of_aticles = souped_page.find('ul',{\"id\": \"river1\"})"
   ]
  },
  {
   "cell_type": "code",
   "execution_count": 44,
   "metadata": {},
   "outputs": [
    {
     "name": "stdout",
     "output_type": "stream",
     "text": [
      "Apple moves iCloud encryption keys for Chinese users to China\n",
      "GoBee Bike throws in the towel in France\n",
      "Samsung MWC 2018 Liveblog\n",
      "LG turns to EyeEm to add AI to its cameras\n",
      "The curious case of the LG V30S ThinQ\n",
      "This is the Samsung Galaxy S9 launch video\n",
      "Liquid democracy uses blockchain to fix politics, and now you can vote for it\n",
      "The Rite Press takes low-tech coffee making to high-tech highs\n",
      "Equity shot: Dropbox is going public, and Aaron Levie has some advice\n",
      "The FCC’s revamped internet speed map lets you covet nearby exotic broadband\n",
      "Veil is private browsing for the ultra-paranoid\n",
      "The Dropbox IPO filing is here\n",
      "Twitch’s first live game show ‘Stream On’ debuts March 8\n",
      "Can Ghostbusters copy Pokémon GO’s success with its own AR mobile game?\n"
     ]
    }
   ],
   "source": [
    "for a in souped_page.find_all('li', {'class':['river-block ']}):\n",
    "    print(a['data-sharetitle'])"
   ]
  },
  {
   "cell_type": "markdown",
   "metadata": {},
   "source": [
    "## Lets grab an article"
   ]
  },
  {
   "cell_type": "code",
   "execution_count": 45,
   "metadata": {},
   "outputs": [],
   "source": [
    "ARTICLE_URL = 'https://techcrunch.com/2018/02/25/gobee-bike-throws-in-the-towel-on-france/'"
   ]
  },
  {
   "cell_type": "code",
   "execution_count": 49,
   "metadata": {},
   "outputs": [],
   "source": [
    "article_response = requests.get(ARTICLE_URL)"
   ]
  },
  {
   "cell_type": "code",
   "execution_count": 50,
   "metadata": {},
   "outputs": [
    {
     "data": {
      "text/plain": [
       "'<!DOCTYPE html>\\n<html xmlns=\"http://www.w3.org/1999/xhtml\" xmlns:og=\"http://opengraphprotocol.org/schema/\" xmlns:fb=\"http://www.facebook.com/2008/fbml\" lang=\"en\">\\n<head>\\n\\t<title>GoBee Bike throws in the towel in France  |  TechCrunch</title>\\n\\t<meta http-equiv=\"X-UA-Compatible\" content=\"IE=Edge\" />\\n\\t<meta charset=\"UTF-8\">\\n\\t\\t\\t<script type=\"text/javascript\">var _sf_startpt = (new Date()).getTime()</script>\\n\\t\\t<meta name=\"p:domain_verify\" content=\"6189ff68ce30e30f12b40b3b40873027\"/>\\n\\t<meta name=\"Hand'"
      ]
     },
     "execution_count": 50,
     "metadata": {},
     "output_type": "execute_result"
    }
   ],
   "source": [
    "article_response.text[:500]"
   ]
  },
  {
   "cell_type": "code",
   "execution_count": 53,
   "metadata": {},
   "outputs": [],
   "source": [
    "article_soup = BeautifulSoup(article_response.text, 'html.parser')"
   ]
  },
  {
   "cell_type": "code",
   "execution_count": 55,
   "metadata": {},
   "outputs": [
    {
     "data": {
      "text/plain": [
       "'GoBee Bike throws in the towel in France  |  TechCrunch'"
      ]
     },
     "execution_count": 55,
     "metadata": {},
     "output_type": "execute_result"
    }
   ],
   "source": [
    "article_soup.find('title').getText()"
   ]
  },
  {
   "cell_type": "code",
   "execution_count": 58,
   "metadata": {},
   "outputs": [
    {
     "data": {
      "text/plain": [
       "<div class=\"article-entry text\">\n",
       "<!-- Begin: Wordpress Article Content -->\n",
       "<img class=\"\" src=\"https://tctechcrunch2011.files.wordpress.com/2017/08/gobee-2.jpg?w=738\"/>\n",
       "<p id=\"speakable-summary\">Bike-sharing startup <a href=\"http://gobeebike.fr/en/\" target=\"_blank\">GoBee Bike</a> is giving up and <a href=\"http://gobeebike.fr/fr/goodbye-fr/\" target=\"_blank\">shutting down</a> in all French cities where it operates. GoBee Bike operates just like Chinese giants Ofo and Mobike. You open  the app, you find a bike on the map and you unlock it by scanning a QR code. Once you’re done, you lock it again and leave it there — there’s no dock.</p>\n",
       "<p>And yet, the startup is blaming vandalism and says that the service would stop immediately. It’s worth noting that users will get a refund on their remaining balances and €15 deposit. This is a nice gesture.</p>\n",
       "<p>According to the announcement, GoBee Bike managed to attract 150,000 users in Europe who used the service hundreds of thousands of times. But the company’s bikes slowly became unusable. 3,200 bikes became dysfunctional, 1,000 bikes were illegally parked in someone’s home. Overall, GoBee Bike had to send someone in 6,500 cases.</p>\n",
       "<p>The startup couldn’t keep up and it became clear that the business model wasn’t scalable if you needed to fix the bikes all the time. As a user, it also felt like you couldn’t unlock most of the bikes because the lock battery was dead most of the time.</p>\n",
       "<p>GoBee Bike first announced that it would stop operating in Brussels, Lille and Reims. The startup also exited the Italian market. And now, users in Paris and Lyon can’t access the service either. The company is still operating in its home city Hong Kong.</p><div><div class=\"native-ad-mobile\" id=\"adsDiv99502568a7\"></div></div>\n",
       "<p>In Paris in particular, there were four different free-floating bike companies — Ofo, Mobike, Obike and GoBee Bike. GoBee Bike is clearly underfunded compared to those giants. According to CrunchBase, GoBee Bike has <a href=\"https://www.crunchbase.com/organization/gobee-bike\" target=\"_blank\">raised</a> $9 million. Ofo and Mobike have raised over $2 billion combined.</p>\n",
       "<p>And you can feel it as a user. While Ofo has been operating in Paris since mid-December, all rides have been free for the past two and half months. Mobike has been around for a month and rides are free as well. Even Obike gave you 50 free rides when you signed up.</p>\n",
       "<p>It’s hard to compete with free.</p>\n",
       "<!-- End: Wordpress Article Content -->\n",
       "</div>"
      ]
     },
     "execution_count": 58,
     "metadata": {},
     "output_type": "execute_result"
    }
   ],
   "source": [
    "article_body = article_soup.find('div', {'class':['article-entry']})\n",
    "article_body"
   ]
  },
  {
   "cell_type": "code",
   "execution_count": 97,
   "metadata": {},
   "outputs": [
    {
     "data": {
      "text/plain": [
       "'   Bike-sharing startup GoBee Bike is giving up and shutting down in all French cities where it operates. GoBee Bike operates just like Chinese giants Ofo and Mobike. You open  the app, you find a bike on the map and you unlock it by scanning a QR code. Once you’re done, you lock it again and leave it there — there’s no dock. And yet, the startup is blaming vandalism and says that the service would stop immediately. It’s worth noting that users will get a refund on their remaining balances and €15 deposit. This is a nice gesture. According to the announcement, GoBee Bike managed to attract 150,000 users in Europe who used the service hundreds of thousands of times. But the company’s bikes slowly became unusable. 3,200 bikes became dysfunctional, 1,000 bikes were illegally parked in someone’s home. Overall, GoBee Bike had to send someone in 6,500 cases. The startup couldn’t keep up and it became clear that the business model wasn’t scalable if you needed to fix the bikes all the time. As a user, it also felt like you couldn’t unlock most of the bikes because the lock battery was dead most of the time. GoBee Bike first announced that it would stop operating in Brussels, Lille and Reims. The startup also exited the Italian market. And now, users in Paris and Lyon can’t access the service either. The company is still operating in its home city Hong Kong. In Paris in particular, there were four different free-floating bike companies — Ofo, Mobike, Obike and GoBee Bike. GoBee Bike is clearly underfunded compared to those giants. According to CrunchBase, GoBee Bike has raised $9 million. Ofo and Mobike have raised over $2 billion combined. And you can feel it as a user. While Ofo has been operating in Paris since mid-December, all rides have been free for the past two and half months. Mobike has been around for a month and rides are free as well. Even Obike gave you 50 free rides when you signed up. It’s hard to compete with free.  '"
      ]
     },
     "execution_count": 97,
     "metadata": {},
     "output_type": "execute_result"
    }
   ],
   "source": [
    "article_text = article_body.getText().replace('\\n', ' ')\n",
    "article_text"
   ]
  },
  {
   "cell_type": "markdown",
   "metadata": {},
   "source": [
    "<h1 style=\"text-align:center\">Now you should see all of the internet as scrapable data </h1>\n",
    "![new view](images/matrix.gif)"
   ]
  },
  {
   "cell_type": "markdown",
   "metadata": {},
   "source": [
    "# Lets do some NLP now!"
   ]
  },
  {
   "cell_type": "code",
   "execution_count": 98,
   "metadata": {},
   "outputs": [],
   "source": [
    "from textblob import TextBlob"
   ]
  },
  {
   "cell_type": "code",
   "execution_count": 99,
   "metadata": {},
   "outputs": [],
   "source": [
    "def get_sentiment(text):\n",
    "    return TextBlob(text).sentiment"
   ]
  },
  {
   "cell_type": "code",
   "execution_count": 100,
   "metadata": {},
   "outputs": [],
   "source": [
    "processed_text = TextBlob(article_text)"
   ]
  },
  {
   "cell_type": "markdown",
   "metadata": {},
   "source": [
    "From https://textblob.readthedocs.io/en/dev/api_reference.html#textblob.blob.TextBlob.sentiment\n",
    "\n",
    "> TextBlob.sentiment\n",
    "\n",
    "> Return a tuple of form (polarity, subjectivity ) where polarity is a float within the range [-1.0, 1.0] and subjectivity is a float within the range [0.0, 1.0] where 0.0 is very objective and 1.0 is very subjective."
   ]
  },
  {
   "cell_type": "code",
   "execution_count": 101,
   "metadata": {},
   "outputs": [
    {
     "data": {
      "text/plain": [
       "Sentiment(polarity=0.09011111111111111, subjectivity=0.41522222222222227)"
      ]
     },
     "execution_count": 101,
     "metadata": {},
     "output_type": "execute_result"
    }
   ],
   "source": [
    "processed_text.sentiment"
   ]
  },
  {
   "cell_type": "markdown",
   "metadata": {},
   "source": [
    "## What are the more subjective (emotional) sentences?"
   ]
  },
  {
   "cell_type": "code",
   "execution_count": 103,
   "metadata": {},
   "outputs": [
    {
     "name": "stdout",
     "output_type": "stream",
     "text": [
      " This is a nice gesture 1.0\n",
      " Mobike has been around for a month and rides are free as well 0.8\n",
      " Even Obike gave you 50 free rides when you signed up 0.8\n",
      " It’s hard to compete with free 0.6708333333333334\n"
     ]
    }
   ],
   "source": [
    "sentences = article_text.split('.')\n",
    "\n",
    "for sentence in sentences:\n",
    "    \n",
    "    sentence_sentiment = get_sentiment(sentence)\n",
    "    \n",
    "    if  sentence_sentiment[1] > 0.5:\n",
    "        print(sentence, sentence_sentiment[1])"
   ]
  },
  {
   "cell_type": "markdown",
   "metadata": {},
   "source": [
    "## Can we plot the words by their sentiment? "
   ]
  },
  {
   "cell_type": "code",
   "execution_count": 93,
   "metadata": {},
   "outputs": [],
   "source": [
    "import matplotlib.pyplot as plt"
   ]
  },
  {
   "cell_type": "code",
   "execution_count": 104,
   "metadata": {},
   "outputs": [],
   "source": [
    "words = article_text.split(' ')"
   ]
  },
  {
   "cell_type": "code",
   "execution_count": 1,
   "metadata": {},
   "outputs": [
    {
     "ename": "NameError",
     "evalue": "name 'x' is not defined",
     "output_type": "error",
     "traceback": [
      "\u001b[0;31m---------------------------------------------------------------------------\u001b[0m",
      "\u001b[0;31mNameError\u001b[0m                                 Traceback (most recent call last)",
      "\u001b[0;32m<ipython-input-1-401b30e3b8b5>\u001b[0m in \u001b[0;36m<module>\u001b[0;34m()\u001b[0m\n\u001b[0;32m----> 1\u001b[0;31m \u001b[0mx\u001b[0m\u001b[0;34m\u001b[0m\u001b[0m\n\u001b[0m",
      "\u001b[0;31mNameError\u001b[0m: name 'x' is not defined"
     ]
    }
   ],
   "source": [
    "x"
   ]
  },
  {
   "cell_type": "code",
   "execution_count": null,
   "metadata": {},
   "outputs": [],
   "source": []
  }
 ],
 "metadata": {
  "kernelspec": {
   "display_name": "Python 3",
   "language": "python",
   "name": "python3"
  },
  "language_info": {
   "codemirror_mode": {
    "name": "ipython",
    "version": 3
   },
   "file_extension": ".py",
   "mimetype": "text/x-python",
   "name": "python",
   "nbconvert_exporter": "python",
   "pygments_lexer": "ipython3",
   "version": "3.5.2"
  }
 },
 "nbformat": 4,
 "nbformat_minor": 1
}
