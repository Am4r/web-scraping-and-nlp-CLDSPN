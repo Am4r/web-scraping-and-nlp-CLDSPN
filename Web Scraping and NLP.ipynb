{
 "cells": [
  {
   "cell_type": "markdown",
   "metadata": {},
   "source": [
    "# Web Scraping & NLP - Central London Data Science Project Nights\n",
    "Instead of relying on excel sheets and database admins to give us the data we need to do our data science, we can take the task into our own hands and collect the data ourselves just by going to webpages.\n",
    "\n",
    "![see the data](images/neo.gif)\n",
    "<p style=\"text-align:center\">Stop seeing web pages and start seeing data.</p>"
   ]
  },
  {
   "cell_type": "markdown",
   "metadata": {},
   "source": [
    "### First lets see what version of python we are on"
   ]
  },
  {
   "cell_type": "code",
   "execution_count": 4,
   "metadata": {},
   "outputs": [
    {
     "name": "stdout",
     "output_type": "stream",
     "text": [
      "Great! Python 3! Lets get on with scraping!\n"
     ]
    }
   ],
   "source": [
    "import sys\n",
    "if sys.version_info[0] == 3:\n",
    "    print('Great! Python 3! Lets get on with scraping!')\n",
    "else:\n",
    "    print('Yikes! Python 2! This may not work for you! ')"
   ]
  },
  {
   "cell_type": "markdown",
   "metadata": {},
   "source": [
    "## Import the libraries for doing our scraping"
   ]
  },
  {
   "cell_type": "code",
   "execution_count": 5,
   "metadata": {},
   "outputs": [],
   "source": [
    "# 'requests' is what we use to send web-requests (to fetch the html files from websites)\n",
    "import requests\n",
    "\n",
    "# beautiful-soup will help us in navigating through the html extract just the text we care about\n",
    "from bs4 import BeautifulSoup"
   ]
  },
  {
   "cell_type": "markdown",
   "metadata": {},
   "source": [
    "Now lets decide which page we want to scrap. We'll do https://techcrunch.com/ first. Open the page in your browser (by clicking on the link) to see the visual structure of the page."
   ]
  },
  {
   "cell_type": "code",
   "execution_count": 6,
   "metadata": {},
   "outputs": [],
   "source": [
    "WEB_PAGE_TO_SCRAPE_URL = \"https://techcrunch.com/\""
   ]
  },
  {
   "cell_type": "code",
   "execution_count": 7,
   "metadata": {},
   "outputs": [],
   "source": [
    "# send request for the web page\n",
    "response = requests.get(WEB_PAGE_TO_SCRAPE_URL)"
   ]
  },
  {
   "cell_type": "code",
   "execution_count": 8,
   "metadata": {},
   "outputs": [
    {
     "data": {
      "text/plain": [
       "'<!DOCTYPE html>\\n<html xmlns=\"http://www.w3.org/1999/xhtml\" xmlns:og=\"http://opengraphprotocol.org/schema/\" xmlns:fb=\"http://www.facebook.com/2008/fbml\" lang=\"en\">\\n<head>\\n\\t<title>TechCrunch - The latest technology news and information on startups</title>\\n\\t<meta http-equiv=\"X-UA-Compatible\" content=\"IE=Edge\" />\\n\\t<meta charset=\"UTF-8\">\\n\\t\\t<meta name=\"p:domain_verify\" content=\"6189ff68ce30e30f12b40b3b40873027\"/>\\n\\t<meta name=\"HandheldFriendly\" content=\"True\">\\n\\t<meta name=\"MobileOptimized\" content=\"320'"
      ]
     },
     "execution_count": 8,
     "metadata": {},
     "output_type": "execute_result"
    }
   ],
   "source": [
    "# lets look at some of the raw text (the html), more specificly the first 500 characters \n",
    "response.text[:500]"
   ]
  },
  {
   "cell_type": "markdown",
   "metadata": {},
   "source": [
    "### *Right click on the web page and click on 'view page source'*\n",
    "It should look very similar to what you see above\n",
    "<br/>\n",
    "<br/>\n",
    "<br/>\n",
    "<br/>\n",
    "<br/>"
   ]
  },
  {
   "cell_type": "code",
   "execution_count": 9,
   "metadata": {},
   "outputs": [],
   "source": [
    "souped_page = BeautifulSoup(response.text, 'html.parser')"
   ]
  },
  {
   "cell_type": "code",
   "execution_count": 10,
   "metadata": {},
   "outputs": [
    {
     "data": {
      "text/plain": [
       "<title>TechCrunch - The latest technology news and information on startups</title>"
      ]
     },
     "execution_count": 10,
     "metadata": {},
     "output_type": "execute_result"
    }
   ],
   "source": [
    "souped_page.find('title')"
   ]
  },
  {
   "cell_type": "code",
   "execution_count": 11,
   "metadata": {},
   "outputs": [
    {
     "data": {
      "text/plain": [
       "'TechCrunch - The latest technology news and information on startups'"
      ]
     },
     "execution_count": 11,
     "metadata": {},
     "output_type": "execute_result"
    }
   ],
   "source": [
    "souped_page.find('title').getText()"
   ]
  },
  {
   "cell_type": "markdown",
   "metadata": {},
   "source": [
    "## Use your browsers 'inspect' to help find the element you want to scrape\n",
    "\n",
    "Most modern browsers allow you to find the exact code for the part of the webpage you are looking at.\n",
    "\n",
    "In chrome: right click on the part of the page and click  ***'inspect'***\n",
    "\n",
    "\n",
    "\n",
    "<img src=\"images/inspect.png\" style=\"border: red solid 2px;\" />\n",
    "\n",
    "\n",
    "\n",
    "---\n",
    "\n",
    "\n",
    "\n",
    "### Chrome will highlight the related part of the webpage as you move your mouse over the code\n",
    "\n",
    "<img src=\"images/element_find.png\" style=\"border: red solid 2px;\" />"
   ]
  },
  {
   "cell_type": "markdown",
   "metadata": {},
   "source": [
    "## BeautifulSoup query syntax\n",
    "\n",
    "Take a look at some html that we've fetched from techcrunch.com\n",
    "\n",
    "<img src=\"images/bs_syntax.png\" style=\"width: 600px; margin-left: 0;\"/>\n",
    "\n",
    "Using beautiful-soup we could try to find this element by looking for the tag:\n",
    "```python\n",
    "souped_page.find('ul')\n",
    "```\n",
    "Look below and see what happens:"
   ]
  },
  {
   "cell_type": "code",
   "execution_count": 56,
   "metadata": {},
   "outputs": [
    {
     "data": {
      "text/plain": [
       "<ul class=\"inline-list social-list sprite-social\">\n",
       "<li class=\"nav-followus\">Follow Us</li><li class=\"first\">\n",
       "<a class=\"spricon nosprite icon-facebook\" href=\"https://www.facebook.com/techcrunch\" rel=\"external\" target=\"_blank\"><span class=\"is-vishidden\">Facebook</span></a>\n",
       "</li><li>\n",
       "<a class=\"spricon nosprite icon-instagram\" href=\"https://instagram.com/techcrunch\" rel=\"external\" target=\"_blank\"><span class=\"is-vishidden\">Instagram</span></a>\n",
       "</li><li>\n",
       "<a class=\"spricon nosprite icon-twitter\" href=\"https://twitter.com/techcrunch\" rel=\"external\" target=\"_blank\"><span class=\"is-vishidden\">Twitter</span></a>\n",
       "</li><li class=\"youtube nav-aux\">\n",
       "<a class=\"spricon nosprite icon-youtube\" href=\"http://www.youtube.com/user/techcrunch\" rel=\"external\" target=\"_blank\"><span class=\"is-vishidden\">Youtube</span></a>\n",
       "</li><li class=\"flipboard nav-aux\">\n",
       "<a class=\"spricon nosprite icon-flipboard\" href=\"https://flipboard.com/@techcrunch\" rel=\"external\" target=\"_blank\"><span class=\"is-vishidden\">Flipboard</span></a>\n",
       "</li><li class=\"linkedin nav-aux\">\n",
       "<a class=\"spricon nosprite icon-linkedin\" href=\"http://www.linkedin.com/company/techcrunch\" rel=\"external\" target=\"_blank\"><span class=\"is-vishidden\">LinkedIn</span></a>\n",
       "</li><li class=\"nav-aux\">\n",
       "<a class=\"spricon nosprite icon-google-plus\" href=\"https://plus.google.com/+TechCrunch\" rel=\"external\" target=\"_blank\"><span class=\"is-vishidden\">Google+</span></a>\n",
       "</li><li class=\"rss nav-aux\">\n",
       "<a class=\"spricon nosprite icon-rss\" href=\"/rssfeeds/\"><span class=\"is-vishidden\">RSS</span></a>\n",
       "</li>\n",
       "<li class=\"nav-social-more\">\n",
       "<a class=\"icon-caret-down\" href=\"#\"><span class=\"is-vishidden\">More</span></a>\n",
       "<ul>\n",
       "<li class=\"youtube\">\n",
       "<a class=\"spricon nosprite icon-youtube\" href=\"http://www.youtube.com/user/techcrunch\" rel=\"external\" target=\"_blank\"><span class=\"is-vishidden\">Youtube</span></a>\n",
       "</li><li class=\"flipboard\">\n",
       "<a class=\"spricon nosprite icon-flipboard\" href=\"https://flipboard.com/@techcrunch\" rel=\"external\" target=\"_blank\"><span class=\"is-vishidden\">Flipboard</span></a>\n",
       "</li><li class=\"linkedin\">\n",
       "<a class=\"spricon nosprite icon-linkedin\" href=\"http://www.linkedin.com/company/techcrunch\" rel=\"external\" target=\"_blank\"><span class=\"is-vishidden\">LinkedIn</span></a>\n",
       "</li><li class=\"google-plus\">\n",
       "<a class=\"spricon nosprite icon-google-plus\" href=\"https://plus.google.com/+TechCrunch\" rel=\"external\" target=\"_blank\"><span class=\"is-vishidden\">Google+</span></a>\n",
       "</li><li class=\"rss\">\n",
       "<a class=\"spricon nosprite icon-rss\" href=\"/rssfeeds/\"><span class=\"is-vishidden\">RSS</span></a>\n",
       "</li>\n",
       "</ul>\n",
       "</li>\n",
       "</ul>"
      ]
     },
     "execution_count": 56,
     "metadata": {},
     "output_type": "execute_result"
    }
   ],
   "source": [
    "souped_page.find('ul')"
   ]
  },
  {
   "cell_type": "markdown",
   "metadata": {},
   "source": [
    "## That isn't our element!?\n",
    "The element we wanted looked like:\n",
    "```html\n",
    "<ul class=\"river lc-padding\" id=\"river1\">\n",
    "```\n",
    "Instead we got:\n",
    "```html\n",
    "<ul class=\"inline-list social-list sprite-social\">\n",
    "```\n",
    "\n",
    "**The problem** is that there are loads of `ul` elements on this page (fyi `ul` means 'unordered-list').\n",
    "\n",
    "We need to be more specific, we can search for elements based both on the tag and element attributes like so:\n",
    "```python\n",
    "# pass in a dictionary of the attributes you want to search for\n",
    "souped_page.find('ul', {'class':'river'})\n",
    "```\n"
   ]
  },
  {
   "cell_type": "code",
   "execution_count": 68,
   "metadata": {},
   "outputs": [
    {
     "data": {
      "text/plain": [
       "{'class': ['river', 'lc-padding'], 'id': 'river1'}"
      ]
     },
     "execution_count": 68,
     "metadata": {},
     "output_type": "execute_result"
    }
   ],
   "source": [
    "list_of_article = souped_page.find('ul', {'class':'river'})\n",
    "\n",
    "# I won't print it all becuase it's quite long\n",
    "# let's just see if all of the attributes match\n",
    "list_of_aticles.attrs"
   ]
  },
  {
   "cell_type": "code",
   "execution_count": 13,
   "metadata": {
    "scrolled": true
   },
   "outputs": [
    {
     "name": "stdout",
     "output_type": "stream",
     "text": [
      "Samsung’s AR Emoji taps creepy avatars and Disney characters to compete with Animoji\n",
      "A ‘Black Panther’ moment\n",
      "Samsung’s DeX docking station gets revamped, turning a smartphone into a trackpad\n",
      "With the Galaxy S9, Samsung put the fingerprint sensor where it belongs\n",
      "HMD unveils its new slate of Nokia Android smartphones starting at $85\n",
      "HMD/Nokia’s smartphones join Google’s Android One program ‘leading the\n",
      "Nokia 8110’s slider ‘Matrix’ feature phone returns with 4G and a €79 price\n",
      "ZTE will deliver the first Android Oreo (Go Edition) handset for the U.S. market in March\n",
      "ZTE brings premium features to its mid-range Blade line\n",
      "Waverly Labs offers real-time translation with its Pilot earbuds\n",
      "The three key CTO skills\n",
      "Huawei ran out of bezel space on its new laptop, so it put a camera in its keyboard\n",
      "Huawei launches its new MediaPad M5 tablets\n",
      "Apple moves iCloud encryption keys for Chinese users to China\n"
     ]
    }
   ],
   "source": [
    "for a in souped_page.find_all('li', {'class':['river-block ']}):\n",
    "    print(a['data-sharetitle'])"
   ]
  },
  {
   "cell_type": "markdown",
   "metadata": {},
   "source": [
    "## Lets grab an article"
   ]
  },
  {
   "cell_type": "code",
   "execution_count": 14,
   "metadata": {},
   "outputs": [],
   "source": [
    "ARTICLE_URL = 'https://techcrunch.com/2018/02/25/gobee-bike-throws-in-the-towel-on-france/'"
   ]
  },
  {
   "cell_type": "code",
   "execution_count": 15,
   "metadata": {},
   "outputs": [],
   "source": [
    "article_response = requests.get(ARTICLE_URL)"
   ]
  },
  {
   "cell_type": "code",
   "execution_count": 16,
   "metadata": {},
   "outputs": [
    {
     "data": {
      "text/plain": [
       "'<!DOCTYPE html>\\n<html xmlns=\"http://www.w3.org/1999/xhtml\" xmlns:og=\"http://opengraphprotocol.org/schema/\" xmlns:fb=\"http://www.facebook.com/2008/fbml\" lang=\"en\">\\n<head>\\n\\t<title>GoBee Bike throws in the towel in France  |  TechCrunch</title>\\n\\t<meta http-equiv=\"X-UA-Compatible\" content=\"IE=Edge\" />\\n\\t<meta charset=\"UTF-8\">\\n\\t\\t\\t<script type=\"text/javascript\">var _sf_startpt = (new Date()).getTime()</script>\\n\\t\\t<meta name=\"p:domain_verify\" content=\"6189ff68ce30e30f12b40b3b40873027\"/>\\n\\t<meta name=\"Hand'"
      ]
     },
     "execution_count": 16,
     "metadata": {},
     "output_type": "execute_result"
    }
   ],
   "source": [
    "article_response.text[:500]"
   ]
  },
  {
   "cell_type": "code",
   "execution_count": 17,
   "metadata": {},
   "outputs": [],
   "source": [
    "article_soup = BeautifulSoup(article_response.text, 'html.parser')"
   ]
  },
  {
   "cell_type": "code",
   "execution_count": 18,
   "metadata": {},
   "outputs": [
    {
     "data": {
      "text/plain": [
       "'GoBee Bike throws in the towel in France  |  TechCrunch'"
      ]
     },
     "execution_count": 18,
     "metadata": {},
     "output_type": "execute_result"
    }
   ],
   "source": [
    "article_soup.find('title').getText()"
   ]
  },
  {
   "cell_type": "code",
   "execution_count": 19,
   "metadata": {},
   "outputs": [
    {
     "data": {
      "text/plain": [
       "<div class=\"article-entry text\">\n",
       "<!-- Begin: Wordpress Article Content -->\n",
       "<img class=\"\" src=\"https://tctechcrunch2011.files.wordpress.com/2017/08/gobee-2.jpg?w=738\"/>\n",
       "<p id=\"speakable-summary\">Bike-sharing startup <a href=\"http://gobeebike.fr/en/\" target=\"_blank\">GoBee Bike</a> is giving up and <a href=\"http://gobeebike.fr/fr/goodbye-fr/\" target=\"_blank\">shutting down</a> in all French cities where it operates. GoBee Bike operates just like Chinese giants Ofo and Mobike. You open  the app, you find a bike on the map and you unlock it by scanning a QR code. Once you’re done, you lock it again and leave it there — there’s no dock.</p>\n",
       "<p>And yet, the startup is blaming vandalism and says that the service would stop immediately. It’s worth noting that users will get a refund on their remaining balances and €15 deposit. This is a nice gesture.</p>\n",
       "<p>According to the announcement, GoBee Bike managed to attract 150,000 users in Europe who used the service hundreds of thousands of times. But the company’s bikes slowly became unusable. 3,200 bikes became dysfunctional, 1,000 bikes were illegally parked in someone’s home. Overall, GoBee Bike had to send someone in 6,500 cases.</p>\n",
       "<p>The startup couldn’t keep up and it became clear that the business model wasn’t scalable if you needed to fix the bikes all the time. As a user, it also felt like you couldn’t unlock most of the bikes because the lock battery was dead most of the time.</p>\n",
       "<p>GoBee Bike first announced that it would stop operating in Brussels, Lille and Reims. The startup also exited the Italian market. And now, users in Paris and Lyon can’t access the service either. The company is still operating in its home city Hong Kong.</p><div><div class=\"native-ad-mobile\" id=\"adsDiv99502568a7\"></div></div>\n",
       "<p>In Paris in particular, there were four different free-floating bike companies — Ofo, Mobike, Obike and GoBee Bike. GoBee Bike is clearly underfunded compared to those giants. According to CrunchBase, GoBee Bike has <a href=\"https://www.crunchbase.com/organization/gobee-bike\" target=\"_blank\">raised</a> $9 million. Ofo and Mobike have raised over $2 billion combined.</p>\n",
       "<p>And you can feel it as a user. While Ofo has been operating in Paris since mid-December, all rides have been free for the past two and half months. Mobike has been around for a month and rides are free as well. Even Obike gave you 50 free rides when you signed up.</p>\n",
       "<p>It’s hard to compete with free.</p>\n",
       "<!-- End: Wordpress Article Content -->\n",
       "</div>"
      ]
     },
     "execution_count": 19,
     "metadata": {},
     "output_type": "execute_result"
    }
   ],
   "source": [
    "article_body = article_soup.find('div', {'class':['article-entry']})\n",
    "article_body"
   ]
  },
  {
   "cell_type": "code",
   "execution_count": 20,
   "metadata": {},
   "outputs": [
    {
     "data": {
      "text/plain": [
       "'   Bike-sharing startup GoBee Bike is giving up and shutting down in all French cities where it operates. GoBee Bike operates just like Chinese giants Ofo and Mobike. You open  the app, you find a bike on the map and you unlock it by scanning a QR code. Once you’re done, you lock it again and leave it there — there’s no dock. And yet, the startup is blaming vandalism and says that the service would stop immediately. It’s worth noting that users will get a refund on their remaining balances and €15 deposit. This is a nice gesture. According to the announcement, GoBee Bike managed to attract 150,000 users in Europe who used the service hundreds of thousands of times. But the company’s bikes slowly became unusable. 3,200 bikes became dysfunctional, 1,000 bikes were illegally parked in someone’s home. Overall, GoBee Bike had to send someone in 6,500 cases. The startup couldn’t keep up and it became clear that the business model wasn’t scalable if you needed to fix the bikes all the time. As a user, it also felt like you couldn’t unlock most of the bikes because the lock battery was dead most of the time. GoBee Bike first announced that it would stop operating in Brussels, Lille and Reims. The startup also exited the Italian market. And now, users in Paris and Lyon can’t access the service either. The company is still operating in its home city Hong Kong. In Paris in particular, there were four different free-floating bike companies — Ofo, Mobike, Obike and GoBee Bike. GoBee Bike is clearly underfunded compared to those giants. According to CrunchBase, GoBee Bike has raised $9 million. Ofo and Mobike have raised over $2 billion combined. And you can feel it as a user. While Ofo has been operating in Paris since mid-December, all rides have been free for the past two and half months. Mobike has been around for a month and rides are free as well. Even Obike gave you 50 free rides when you signed up. It’s hard to compete with free.  '"
      ]
     },
     "execution_count": 20,
     "metadata": {},
     "output_type": "execute_result"
    }
   ],
   "source": [
    "article_text = article_body.getText().replace('\\n', ' ')\n",
    "article_text"
   ]
  },
  {
   "cell_type": "markdown",
   "metadata": {},
   "source": [
    "<h1 style=\"text-align:center\">Now you should see all of the internet as scrapable data </h1>\n",
    "![new view](images/matrix.gif)"
   ]
  },
  {
   "cell_type": "markdown",
   "metadata": {},
   "source": [
    "# Lets do some NLP now!"
   ]
  },
  {
   "cell_type": "code",
   "execution_count": 21,
   "metadata": {},
   "outputs": [],
   "source": [
    "from textblob import TextBlob"
   ]
  },
  {
   "cell_type": "code",
   "execution_count": 22,
   "metadata": {},
   "outputs": [],
   "source": [
    "def get_sentiment(text):\n",
    "    return TextBlob(text).sentiment"
   ]
  },
  {
   "cell_type": "code",
   "execution_count": 23,
   "metadata": {},
   "outputs": [],
   "source": [
    "processed_text = TextBlob(article_text)"
   ]
  },
  {
   "cell_type": "markdown",
   "metadata": {},
   "source": [
    "From https://textblob.readthedocs.io/en/dev/api_reference.html#textblob.blob.TextBlob.sentiment\n",
    "\n",
    "> TextBlob.sentiment\n",
    "\n",
    "> Return a tuple of form (polarity, subjectivity ) where polarity is a float within the range [-1.0, 1.0] and subjectivity is a float within the range [0.0, 1.0] where 0.0 is very objective and 1.0 is very subjective."
   ]
  },
  {
   "cell_type": "code",
   "execution_count": 24,
   "metadata": {},
   "outputs": [
    {
     "data": {
      "text/plain": [
       "Sentiment(polarity=0.09011111111111111, subjectivity=0.41522222222222227)"
      ]
     },
     "execution_count": 24,
     "metadata": {},
     "output_type": "execute_result"
    }
   ],
   "source": [
    "processed_text.sentiment"
   ]
  },
  {
   "cell_type": "markdown",
   "metadata": {},
   "source": [
    "## What are the more subjective (emotional) sentences?"
   ]
  },
  {
   "cell_type": "code",
   "execution_count": 26,
   "metadata": {},
   "outputs": [
    {
     "name": "stdout",
     "output_type": "stream",
     "text": [
      " This is a nice gesture 1.0\n",
      " Mobike has been around for a month and rides are free as well 0.8\n",
      " Even Obike gave you 50 free rides when you signed up 0.8\n",
      " It’s hard to compete with free 0.6708333333333334\n"
     ]
    }
   ],
   "source": [
    "sentences = article_text.split('.')\n",
    "\n",
    "for sentence in sentences:\n",
    "    \n",
    "    sentence_sentiment = get_sentiment(sentence)\n",
    "    \n",
    "    if  sentence_sentiment.subjectivity > 0.5:\n",
    "        print(sentence, sentence_sentiment.subjectivity)"
   ]
  },
  {
   "cell_type": "markdown",
   "metadata": {},
   "source": [
    "## Can we plot the words by their sentiment? "
   ]
  },
  {
   "cell_type": "code",
   "execution_count": 32,
   "metadata": {},
   "outputs": [],
   "source": [
    "# import ploting library \n",
    "import matplotlib.pyplot as plt\n",
    "\n",
    "# draw plot in notebook\n",
    "%matplotlib inline"
   ]
  },
  {
   "cell_type": "code",
   "execution_count": 33,
   "metadata": {},
   "outputs": [],
   "source": [
    "# get all word indevidually by splitting on every space\n",
    "words = article_text.split(' ')"
   ]
  },
  {
   "cell_type": "code",
   "execution_count": 55,
   "metadata": {},
   "outputs": [
    {
     "data": {
      "image/png": "[encoded data removed]",
      "text/plain": [
       "<matplotlib.figure.Figure at 0x116dcf208>"
      ]
     },
     "metadata": {},
     "output_type": "display_data"
    }
   ],
   "source": [
    "plt.figure(figsize=(12,7))\n",
    "\n",
    "for word in words:\n",
    "    word_sentiment = get_sentiment(word)\n",
    "    plt.text(word_sentiment.polarity, # x coordinate\n",
    "             word_sentiment.subjectivity, # y coordinate\n",
    "             word) # the text to draw\n",
    "\n",
    "# set axis ranges \n",
    "plt.xlim(-1, 1)\n",
    "plt.ylim(0, 1)\n",
    "\n",
    "# draw line in middle\n",
    "plt.axvline(0, color='red', linestyle='dashed')\n",
    "\n",
    "# label axis\n",
    "plt.title('Sentiment analysis of words')\n",
    "plt.xlabel('Polarity (positive(love) or negative(hate))')\n",
    "plt.ylabel('Subjectivity (0 - purly objective, 1 - purly subjective)')\n",
    "\n",
    "plt.show()"
   ]
  },
  {
   "cell_type": "code",
   "execution_count": null,
   "metadata": {},
   "outputs": [],
   "source": []
  }
 ],
 "metadata": {
  "kernelspec": {
   "display_name": "Python 3",
   "language": "python",
   "name": "python3"
  },
  "language_info": {
   "codemirror_mode": {
    "name": "ipython",
    "version": 3
   },
   "file_extension": ".py",
   "mimetype": "text/x-python",
   "name": "python",
   "nbconvert_exporter": "python",
   "pygments_lexer": "ipython3",
   "version": "3.5.2"
  }
 },
 "nbformat": 4,
 "nbformat_minor": 1
}
